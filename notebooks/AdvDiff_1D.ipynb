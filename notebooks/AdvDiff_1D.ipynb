{
 "cells": [
  {
   "cell_type": "markdown",
   "metadata": {},
   "source": [
    "# Numerical Solutions to the Advection-Diffusion Eqaution in 1-D\n",
    "\n",
    "A common equation in transport phenomena, either mass or heat. \n",
    "\n",
    "## Mathematical Problem  \n",
    "\n",
    "The advection-diffusion equation in one dimmesion ($x$) is   \n",
    "\n",
    "\\begin{align}\n",
    "  \\frac{\\partial u}{\\partial t} + a \\frac{\\partial u}{ \\partial x} = \\kappa \\frac{\\partial^2 u}{\\partial x^2}\n",
    "\\end{align}\n",
    "\n",
    "https://nicoguaro.github.io/posts/infinite_fdm/  \n",
    "https://www.math.utah.edu/~vshankar/5620/IMEX.pdf   \n",
    "http://runge.math.smu.edu/Math6321/_downloads/imex.pdf  \n",
    "http://www.math.utah.edu/~vshankar/5620/Ascher1995.pdf  \n",
    "https://ocw.mit.edu/courses/mathematics/18-086-mathematical-methods-for-engineers-ii-spring-2006/video-lectures/  \n",
    "\n",
    "\n",
    "https://www.math.ucla.edu/~wotaoyin/splittingbook/ch3-macnamara-strang.pdf  \n",
    "https://ocw.mit.edu/courses/mathematics/18-336-numerical-methods-for-partial-differential-equations-spring-2009/lecture-notes/MIT18_336S09_lec20.pdf\n",
    "\n",
    "https://scicomp.stackexchange.com/questions/29695/general-questions-regarding-stability-for-time-integration-of-operator-split-pde?rq=1\n",
    "\n",
    "http://dergipark.org.tr/tr/download/article-file/387502\n",
    "https://scicomp.stackexchange.com/questions/24561/strang-splitting?rq=1\n",
    "https://scicomp.stackexchange.com/questions/29695/general-questions-regarding-stability-for-time-integration-of-operator-split-pde?rq=1"
   ]
  },
  {
   "cell_type": "markdown",
   "metadata": {},
   "source": [
    "## Analytical Solution \n",
    "\\begin{align}\n",
    "    U(x,t) = \\frac{M}{A\\sqrt{4\\pi \\kappa t}} \\exp \\left( - \\frac{(x-(x_0+at))^2}{4\\kappa t} \\right)\n",
    "\\end{align}\n"
   ]
  },
  {
   "cell_type": "markdown",
   "metadata": {},
   "source": [
    "## Numerical Approaches \n",
    "\n",
    "For numerical treatment of the advection-diffusion equation we condsider   \n",
    "\n",
    "\\begin{align}\n",
    "  u_t = \\mathcal{A}(u) + \\mathcal{B}(u)\n",
    "\\end{align}\n",
    "\n",
    "where \n",
    "\n",
    "\\begin{align}\n",
    "  \\mathcal{A}(u) = a \\frac{\\partial u}{ \\partial x} \\;\\;\\; \\text{ and } \\;\\;\\; \\mathcal{B}(u) = \\kappa \\frac{\\partial^2 u}{\\partial x^2} \\;\\;.\n",
    "\\end{align}\n",
    "\n",
    "### Operators Splitting (Fractional Step)  Methods\n",
    "\n",
    "__Goundov Spliting__  \n",
    "The simple first-order method for solving a the advection-duffison equation \n",
    "\n",
    "\\begin{align}\n",
    "\\begin{aligned}\n",
    "U^* &= \\mathcal{N}_{\\mathcal{A}}(U^n,k), \\\\\n",
    "U^{n+1} &= \\mathcal{N}_{\\mathcal{B}}(U^*,k)\n",
    "\\end{aligned}\n",
    "\\end{align}\n",
    "\n",
    "where $\\mathcal{N}_{\\mathcal{A}}(U^n,k)$ solves $u_t = \\mathcal{A}(u)$ over a time step $k$ with inital conditions of $U^n$ and $\\mathcal{N}_{\\mathcal{B}}(U^*,k)$ similarily solves  $u_t = \\mathcal{B}(u)$ over a time step $k$ but with inital conditions of $U^*$.  \n",
    "\n",
    "\n",
    "__Strang Spliting__  \n",
    "A second-order method is  \n",
    "\\begin{align}\n",
    "\\begin{aligned}\n",
    "U^* &= \\mathcal{N}_{\\mathcal{A}}(U^n,k/2), \\\\\n",
    "U^{**} &= \\mathcal{N}_{\\mathcal{B}}(U^*,k), \\\\\n",
    "U^{n+1} &= \\mathcal{N}_{\\mathcal{A}}(U^{**},k/2)\n",
    "\\end{aligned}\n",
    "\\end{align}\n",
    "\n",
    "\n",
    "### Accuracy of Operator Splitting \n",
    "\n",
    "\n",
    "First we consider a linear system of ODEs    \n",
    "\\begin{align}\n",
    "  u_t = \\mathcal{A}(u) + \\mathcal{B}(u)\n",
    "\\end{align}\n",
    "analogous to our PDE of interest. The analytical solution to equation above is  \n",
    "\n",
    "\\begin{align}\n",
    "  u(h) = e^{h(A + B)}u(0)\n",
    "\\end{align}\n",
    "\n",
    "at time $h$ with $u(0)$ being the initial condition. If we use a fractional step method like the one outline above, but instead of numerical methods to solve operators we use the exact solution so that we have \n",
    "\n",
    "\\begin{align}\n",
    "  \\mathcal{N}_{\\mathcal{A}}(U^n,k) = e^{A k}U, && \\mathcal{N}_{\\mathcal{B}}(U^n,k) = e^{Bk}U .\n",
    "\\end{align}  \n",
    "\n",
    "Therefore, first-order operator splitting method with analytical solutions to 'sub-problems' is \n",
    "\\begin{align}\n",
    "  U^{n+1} &= e^{Bk}U^* = e^{Bk}e^{Ak}U^n \n",
    "\\end{align}  \n",
    "whereas the exact solution would be \n",
    "\\begin{align}\n",
    "  u(t_{n+1}) = e^{k(A + B)}u(t_n) \\;\\; .\n",
    "\\end{align}\n",
    "\n",
    "To see the order of accuracy our operator splitting method achieves as compared to the analytical solution we can use the Taylor Series Expansion of the matrix exponentials such that, \n",
    "\n",
    "\\begin{align} \n",
    "  e^{k(A + B)} = I + k(A+B) + \\frac12 k^2(A+B)^2 + \\ldots, \n",
    "\\end{align}\n",
    "for the analytical solution, whereas \n",
    "\\begin{align} \n",
    "\\begin{aligned}\n",
    "  e^{Bk}e^{Ak}U^n  &= \\left(I + kA + \\frac12 k^2(A)^2 + \\ldots \\right)\\left(I + kB + \\frac12 k^2(B)^2 + \\ldots \\right) \\\\\n",
    "                    &= I + k(A+B) + \\frac12 k^2(A^2 + 2AB +B^2) + \\ldots \n",
    "\\end{aligned}\n",
    "\\end{align}\n",
    "for the operator splitting method (note $I$ is identity matrix). Therefore the operator splitting methods does not equate to the analytical solution unless \n",
    "\\begin{align} \n",
    "  (A+B)^2 = (A^2 + 2AB +B^2) \n",
    "\\end{align}\n",
    "but, given that matrix multiplication is generally not commutative (i.e. $AB \\neq BA$) then the operator splitting only equals the exact solution under the special cases where $A$ and $B$ commute. Multiplication of matrices $A$ and $B$ only commute when the matrices, are both diagonal, are simultaneously diagonalizable (i.e. share eigenvectors), and some other special cases. When the matrices (or operators) commute all the terms in the Taylor Series Expansions agree and operator splitting method is the exact solution. In practice in commutation is achieved this means no accuracy is lost by the splitting operations, only by the numerical methods used to solve each 'sub-equation'. \n",
    "\n",
    "So, we return to the linear one-dimensional adevection-diffusion equation \n",
    "\n",
    "\\begin{align}\n",
    "  \\frac{\\partial u}{\\partial t} + a \\frac{\\partial u}{ \\partial x} = \\kappa \\frac{\\partial^2 u}{\\partial x^2}\n",
    "\\end{align}\n",
    "\n",
    "where \n",
    "\n",
    "\\begin{align}\n",
    "  \\mathcal{A}(u) = a \\frac{\\partial u}{ \\partial x} \\;\\;\\; \\text{ and } \\;\\;\\; \\mathcal{B}(u) = \\kappa \\frac{\\partial^2 u}{\\partial x^2} \\;\\;.\n",
    "\\end{align}\n",
    "We want to test whether the operators ($\\mathcal{A}(u) and \\mathcal{B}(u)$) commute so we compute  \n",
    "\\begin{align} \n",
    "\\begin{aligned}\n",
    "    AB = a \\frac{\\partial u}{ \\partial x} \\kappa \\frac{\\partial^2 u}{\\partial x^2} = a \\kappa \\frac{\\partial^3 u}{\\partial x^3}\n",
    "\\end{aligned}\n",
    "\\end{align}\n",
    "and \n",
    "\\begin{align} \n",
    "\\begin{aligned}\n",
    "    BA = \\kappa \\frac{\\partial^2 u}{\\partial x^2} a \\frac{\\partial u}{ \\partial x} = \\kappa a\\frac{\\partial^3 u}{\\partial x^3} \\;\\;.\n",
    "\\end{aligned}\n",
    "\\end{align}\n",
    "The operators ($AB = BA$) and therefore the first order operator splitting method is the exact solution for the one dimensional scalar equation.  Therefore, their is no loss of accuracy from the operator splitting and no need to implement a higher-order splitting method that would be more computationally inefficient."
   ]
  },
  {
   "cell_type": "code",
   "execution_count": 1,
   "metadata": {},
   "outputs": [],
   "source": [
    "# Global\n",
    "import sys \n",
    "import numpy as np \n",
    "from scipy import linalg as LA\n",
    "import matplotlib.pyplot as plt\n",
    "\n",
    "# Local\n",
    "sys.path.append('../')\n",
    "from advdiff.model import advection,Diffusion"
   ]
  },
  {
   "cell_type": "code",
   "execution_count": 2,
   "metadata": {},
   "outputs": [
    {
     "name": "stdout",
     "output_type": "stream",
     "text": [
      "FUck\n"
     ]
    },
    {
     "data": {
      "text/plain": [
       "[<matplotlib.lines.Line2D at 0x118d43390>]"
      ]
     },
     "execution_count": 2,
     "metadata": {},
     "output_type": "execute_result"
    },
    {
     "data": {
      "image/png": "[encoded data removed]",
      "text/plain": [
       "<Figure size 432x288 with 1 Axes>"
      ]
     },
     "metadata": {
      "needs_background": "light"
     },
     "output_type": "display_data"
    }
   ],
   "source": [
    "def η(x, t=0.1, κ=3e-6, a=3e-6, x_0=np.pi):\n",
    "    M = 1; P = 1\n",
    "    return (M / (P *(4*np.pi*κ*t)**0.5)) * np.exp(-(((x-(x_0 + a*t))**2)/(4*κ*t)))\n",
    "\n",
    "params = {'L':12.*np.pi,'nx':500,'nt':100}\n",
    "adv_coef  = {'a':3, 'σ':0.1}\n",
    "diff_coef = {'κ':3e-3, 'σ':0.1}\n",
    "\n",
    "Adv  = advection(params,adv_coef)\n",
    "Adv.U[0,:] = η(Adv.x,0.1,diff_coef['κ'],adv_coef['a'])\n",
    "\n",
    "Diff = Diffusion(params,diff_coef)\n",
    "Diff.U[0,:] = η(Adv.x,0.1,diff_coef['κ'],adv_coef['a'])\n",
    "\n",
    "UStar = np.zeros_like(Diff.U)\n",
    "U = np.copy(Diff.U)  # numerical sol. array\n",
    "u = np.copy(Diff.U)  # analytical sol. array\n",
    "\n",
    "for t in range(params['nt']-1):\n",
    "    UStar[t,:] = Diff.crank_nicolson(t,U)\n",
    "    U[t+1,:]   = Adv.BeamWarming(t,UStar)\n",
    "    \n",
    "    u[t+1,:] = η(Adv.x,(t*Adv.dt) + 0.1,diff_coef['κ'],adv_coef['a'])\n",
    "\n",
    "plt.plot(U[-1,:],'x')"
   ]
  },
  {
   "cell_type": "code",
   "execution_count": null,
   "metadata": {},
   "outputs": [],
   "source": [
    "plt.plot(test.x,analytical[-1,:])\n",
    "plt.plot(test.x,LaxWendroff_S[-1,:])"
   ]
  },
  {
   "cell_type": "code",
   "execution_count": null,
   "metadata": {},
   "outputs": [],
   "source": [
    "########################################################\n",
    "#################   Init. Constant   ###################\n",
    "########################################################\n",
    "a  = 3.                    # wave speed \n",
    "L  = 2*np.pi               # Domain Length \n",
    "nx = 100                    # Num. grid cells\n",
    "dx = L/(nx-1)              # grid spacing\n",
    "\n",
    "nt = 100                     # Num time steps\n",
    "σ  = .5                    # courant number\n",
    "dt = 0.001                 # time step \n",
    "κ  = 3e-3\n",
    "########################################################\n",
    "##################   Init. Domain   ####################\n",
    "########################################################\n",
    "x  = np.linspace(dx,L,nx)  # spatial grid\n",
    "u  = np.zeros((nt,nx)) # (num methods) X (nx) X (nt)\n",
    "u[0,:] = f(x,0,κ,a)   # init. condition\n",
    "\n",
    "for j in range(0,nt-1):\n",
    "    for i in (0,nx-1):\n",
    "        u[j+1,i] = u[j,i] - ((dt*a)/dx)* (u[j,i] - u[j,i-1])  "
   ]
  },
  {
   "cell_type": "code",
   "execution_count": null,
   "metadata": {},
   "outputs": [],
   "source": [
    "plt.plot(x,initcond(test,t=50))"
   ]
  },
  {
   "cell_type": "code",
   "execution_count": null,
   "metadata": {
    "code_folding": []
   },
   "outputs": [],
   "source": [
    "import scipy as sp\n",
    "\n",
    "def Bahar(x,t,a,κ):\n",
    "    return 0.5 * sp.special.erfc((x-a*t)/np.sqrt(4*κ*t)) + 0.5*np.exp((a*x)/κ)*sp.special.erfc((x+a*t)/np.sqrt(4*κ*t))\n",
    "\n",
    "x1 = np.linspace(0,100,100+1)\n",
    "y1 = Bahar(x1,500,0.1,0.02)                                                                                              \n",
    "                                                                                               "
   ]
  },
  {
   "cell_type": "code",
   "execution_count": null,
   "metadata": {},
   "outputs": [],
   "source": [
    "plt.plot(x1,y1)"
   ]
  },
  {
   "cell_type": "code",
   "execution_count": null,
   "metadata": {},
   "outputs": [],
   "source": []
  }
 ],
 "metadata": {
  "kernelspec": {
   "display_name": "Python 3",
   "language": "python",
   "name": "python3"
  },
  "language_info": {
   "codemirror_mode": {
    "name": "ipython",
    "version": 3
   },
   "file_extension": ".py",
   "mimetype": "text/x-python",
   "name": "python",
   "nbconvert_exporter": "python",
   "pygments_lexer": "ipython3",
   "version": "3.6.7"
  }
 },
 "nbformat": 4,
 "nbformat_minor": 2
}
