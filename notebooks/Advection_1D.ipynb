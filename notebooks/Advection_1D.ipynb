{
 "cells": [
  {
   "cell_type": "markdown",
   "metadata": {},
   "source": [
    "# Numerical Solutions to the Advection Eqaution in 1-D\n",
    "\n",
    "## Mathematical Problem\n",
    "\n",
    "The homogenous advection equation in one dimmension is  \n",
    "\\begin{align}\n",
    "  \\frac{\\partial u}{\\partial t} = a \\frac{\\partial u}{\\partial x}\n",
    "\\end{align}\n",
    "where $u(x,t)$ is a scalar field (_e.g._ density, enthalpy) and $a$ is the advection velocity. This hyperbolic equation is simple very useful for insight on how to numerically solve hyperbolic PDEs. In order to solve this equation (numerically or analytically) we need inital conidtions at $t_0$  \n",
    "\\begin{align}\n",
    "  u(x,t_0) = \\eta(x)\n",
    "\\end{align}\n",
    "and boundary conditions  \n",
    "\\begin{align}\n",
    "\\begin{aligned}\n",
    "  u(0, t) = g_0(t) \\;\\;\\; \\text{for} \\;\\;\\; t>0\\\\\n",
    "  u(L, t) = g_0(t) \\;\\;\\; \\text{for} \\;\\;\\; t>0\n",
    "\\end{aligned}\n",
    "\\end{align}  \n",
    "on the domain $0<x<L$."
   ]
  },
  {
   "cell_type": "markdown",
   "metadata": {},
   "source": [
    "## Numerical Approaches\n",
    "We will aplly finite differences on a discrete grid with grid points $(x_i, t_j)$ where  \n",
    "\\begin{align}\n",
    "  x_i = i h && t_j = jk\n",
    "\\end{align}\n",
    "Here $h = \\Delta x$ is the grid cell spacing and $k = \\Delta t$ is the time step, with $U^i_j \\approx u(x_i, t_j)$ is numerical approximation at $(x_i, t_j)$.  \n",
    "\n",
    "__Foward-Time Cenetered-Space (FTCS)__  \n",
    "\n",
    "A first order approach, using centered differences in space \n",
    "\\begin{align}  \n",
    "  \\frac{U_i^{j+1} - U_i^{j}}{\\Delta t} = -\\frac{a}{2 \\Delta x} \\left( U_{i+1}^{j} + U_{i-1}^{j}\\right)\n",
    "\\end{align}  \n",
    "and forward differences in time, can be written as   \n",
    "\\begin{align}  \n",
    "  U_i^{j+1} = U_i^{j} -\\frac{a \\Delta t}{2 \\Delta x} \\left( U_{i+1}^{j} + U_{i-1}^{j}\\right) . \n",
    "\\end{align} \n",
    "This method is not useful because of stability limitations and is only first order accurate. We will not use this in practice, but usefull for comparison to more accurate and stable methods.  \n",
    "\n",
    "__Lax-Wendroff__   \n",
    "This method is based on the Taylor series expansion  \n",
    "\\begin{align}\n",
    "  u(x,t_{j+1}) = u(x,t_{j}) + \\Delta u_t(x,t_n) + \\frac12 (\\Delta t)^2 u_{tt}(x,t_n) + \\ldots.\n",
    "  \\label{eqn:taylor}\n",
    "\\end{align}  \n",
    "From the governing equation we have $u_t = a u_x$, differentiating this with respect to $t$ gives  \n",
    "\\begin{align}  \n",
    "  u_{tt} = -au_{xt} = a^2 u_{xx}\n",
    "\\end{align}\n",
    "where we have used $u_{xt} = u_{tx} = (a u_x)_x $ based on equality of mixed derivatives. Subing these expressions for $u_t$ and $u_tt$ into Eqn. \\ref{eqn:taylor} gives  \n",
    "\\begin{align}\n",
    "  u(x,t_{j+1}) = u(x,t_{j}) + \\Delta t \\; au_x(x,t_n) + \\frac12 (\\Delta t)^2 a^2 u_{xx}(x,t_n) + \\ldots.\n",
    "\\end{align}\n",
    "Using only these first three terms and expanding the spatial derivatives using centered differences gives\n",
    "\\begin{align}  \n",
    "  U_i^{j+1} = U_i^{j} -\\frac{ \\Delta t}{2 \\Delta x} a \\left( U_{i+1}^{j} + U_{i-1}^{j}\\right) + \\frac{(\\Delta t)^2}{2 (\\Delta x)^2} a^2 \\left(U_{i-1}^{j} -2U_{i}^{j} + U_{i+1}^{j}\\right). \n",
    "\\end{align} \n",
    "the _Lax-Wendroff_ method, which is second order accurate. \n",
    "\n",
    "\n",
    "__Upwind__  \n",
    "The above methods are symetric in space, but the advection equation is aysymettric depending on the sign of $a$; if $a > 0$ the solution moves to the right and if $a<0$ the solution moves to the left. Therefore, under special circumstances when the solution is asymetteric we can take advantage of this  \n",
    "\\begin{align}  \n",
    "  U_i^{j+1} = U_i^{j} -\\frac{a \\Delta t}{\\Delta x} \\left( U_{i}^{j} - U_{i-1}^{j}\\right) \n",
    "\\end{align} \n",
    "or   \n",
    "\\begin{align}  \n",
    "  U_i^{j+1} = U_i^{j} -\\frac{a \\Delta t}{\\Delta x} \\left( U_{i+1}^{j} - U_{i}^{j}\\right) \n",
    "\\end{align} \n",
    "\n",
    "__Beam-Splitting__  \n",
    "\\begin{align}  \n",
    "  U_i^{j+1} = U_i^{j} -\\frac{ \\Delta t}{2 \\Delta x} a \\left( 3U_{i}^{j} - 4U_{i-1}^{j} + U_{i-2}^{j}\\right) + \\frac{(\\Delta t)^2}{2 (\\Delta x)^2} a^2 \\left(U_{i}^{j} -2U_{i-1}^{j} + U_{i-2}^{j}\\right). \n",
    "\\end{align} \n"
   ]
  },
  {
   "cell_type": "markdown",
   "metadata": {},
   "source": [
    "## Python Implementation"
   ]
  },
  {
   "cell_type": "code",
   "execution_count": 1,
   "metadata": {},
   "outputs": [],
   "source": [
    "# Global\n",
    "import sys \n",
    "import numpy as np \n",
    "import matplotlib.pyplot as plt\n",
    "\n",
    "# Local\n",
    "sys.path.append('../')\n",
    "from advdiff.solvers import TDMA\n",
    "from advdiff.plot import animation"
   ]
  },
  {
   "cell_type": "code",
   "execution_count": 19,
   "metadata": {},
   "outputs": [],
   "source": [
    "def gauss(x, σ = 0.05, μ = 0.5):\n",
    "    '''1-D Gaussian Curve\n",
    "    \n",
    "    Keyword arguments:\n",
    "    σ -- σ^2 is the variance\n",
    "    μ -- Mean (i.e. center) \n",
    "    '''\n",
    "    return 1./(σ*(2*np.pi)**0.5)*np.exp(-0.5*((x-μ)/σ)**2)\n",
    "\n",
    "########################################################\n",
    "#################   Init. Constant   ###################\n",
    "########################################################\n",
    "a  = 3                     # wave speed \n",
    "L  = 1.                    # Domain Length \n",
    "nx = 100                   # Num. grid cells\n",
    "dx = L/(nx-1)              # grid spacing\n",
    "\n",
    "nt = 1000                   # Num time steps\n",
    "σ  = .75                   # courant number\n",
    "dt = 2e-3 #(σ*dx)**2/a           # time step \n",
    "\n",
    "########################################################\n",
    "##################   Init. Domain   ####################\n",
    "########################################################\n",
    "x  = np.linspace(dx,L,nx)  # spatial grid\n",
    "u  = np.zeros((5,nx,nt+1)) # (num methods) X (nx) X (nt)\n",
    "u[:,:,0] = gauss(x)        # init. condition\n",
    "\n",
    "for j in range(1,nt):\n",
    "    for i in range(1,nx-1):  \n",
    "        # FTCS (0)\n",
    "        u[0,i,j+1] = u[0,i,j] - ((dt*a)/(dx*2)) * (u[0,i+1,j] - u[0,i-1,j])\n",
    "        # Up-wind (1)\n",
    "        u[1,i,j+1] = u[1,i,j] - ((dt*a)/dx)* (u[1,i,j] - u[1,i-1,j]) \n",
    "        # Lax-Wendroff (2)\n",
    "        u[2,i,j+1] = u[2,i,j] - ((dt*a)/(dx*2))* (u[2,i+1,j] - u[2,i-1,j]) + ((dt*a)**2/(2*dx**2))*(u[2,i+1,j] - 2*u[2,i,j] + u[2,i-1,j])\n",
    "        # Beam-Splitting (3)\n",
    "        u[3,i,j+1] = u[3,i,j] - ((dt*a)/(dx*2))* (3*u[3,i,j] - 4*u[3,i-1,j] + u[3,i-2,j]) + ((dt*a)**2/(2*dx**2))*(u[3,i,j] - 2*u[3,i-1,j] + u[3,i-2,j])\n",
    "        \n",
    "    #Anlytical (4)\n",
    "    u[4,:,j] = gauss(x-a*(j*dt))        # init. condition\n",
    "        \n",
    "    \n",
    "    u[:,0,j+1]  = u[:,-2,j+1]\n",
    "    u[:,-1,j+1]  = u[:,1,j+1]\n"
   ]
  },
  {
   "cell_type": "code",
   "execution_count": 25,
   "metadata": {},
   "outputs": [
    {
     "ename": "AssertionError",
     "evalue": "",
     "output_type": "error",
     "traceback": [
      "\u001b[0;31m---------------------------------------------------------------------------\u001b[0m",
      "\u001b[0;31mAssertionError\u001b[0m                            Traceback (most recent call last)",
      "\u001b[0;32m<ipython-input-25-84f5e8f7e454>\u001b[0m in \u001b[0;36m<module>\u001b[0;34m\u001b[0m\n\u001b[1;32m      9\u001b[0m \u001b[0mg\u001b[0m \u001b[0;34m=\u001b[0m \u001b[0mperiodically_continued\u001b[0m\u001b[0;34m(\u001b[0m\u001b[0;36m0\u001b[0m\u001b[0;34m,\u001b[0m \u001b[0;36m1\u001b[0m\u001b[0;34m)\u001b[0m\u001b[0;34m(\u001b[0m\u001b[0;32mlambda\u001b[0m \u001b[0mx\u001b[0m\u001b[0;34m:\u001b[0m \u001b[0;34m-\u001b[0m\u001b[0mx\u001b[0m\u001b[0;34m)\u001b[0m\u001b[0;34m\u001b[0m\u001b[0;34m\u001b[0m\u001b[0m\n\u001b[1;32m     10\u001b[0m \u001b[0;34m\u001b[0m\u001b[0m\n\u001b[0;32m---> 11\u001b[0;31m \u001b[0;32massert\u001b[0m \u001b[0mf\u001b[0m\u001b[0;34m(\u001b[0m\u001b[0;36m2.5\u001b[0m\u001b[0;34m)\u001b[0m \u001b[0;34m==\u001b[0m \u001b[0;36m0.5\u001b[0m\u001b[0;34m\u001b[0m\u001b[0;34m\u001b[0m\u001b[0m\n\u001b[0m\u001b[1;32m     12\u001b[0m \u001b[0;32massert\u001b[0m \u001b[0mg\u001b[0m\u001b[0;34m(\u001b[0m\u001b[0;36m2.5\u001b[0m\u001b[0;34m)\u001b[0m \u001b[0;34m==\u001b[0m \u001b[0;34m-\u001b[0m\u001b[0;36m0.5\u001b[0m\u001b[0;34m\u001b[0m\u001b[0;34m\u001b[0m\u001b[0m\n",
      "\u001b[0;31mAssertionError\u001b[0m: "
     ]
    }
   ],
   "source": [
    "def periodically_continued(a, b):\n",
    "    interval = b - a\n",
    "    return lambda f: lambda x: f((x - a) % interval + a)\n",
    "\n",
    "@periodically_continued(-1, 1)\n",
    "def f(x):\n",
    "    return (1/(σ*(2*np.pi)**0.5)) * np.exp(-0.5*(((x-a*j)-μ)/σ)**2)\n",
    "\n",
    "g = periodically_continued(0, 1)(lambda x: -x)\n",
    "\n",
    "assert f(2.5) == 0.5\n",
    "assert g(2.5) == -0.5"
   ]
  },
  {
   "cell_type": "code",
   "execution_count": 26,
   "metadata": {},
   "outputs": [
    {
     "data": {
      "text/plain": [
       "array([0.01010101, 0.02009999, 0.03009897, 0.04009795, 0.05009693,\n",
       "       0.06009591, 0.07009489, 0.08009387, 0.09009285, 0.10009183,\n",
       "       0.11009081, 0.12008979, 0.13008877, 0.14008775, 0.15008673,\n",
       "       0.16008571, 0.17008469, 0.18008366, 0.19008264, 0.20008162,\n",
       "       0.2100806 , 0.22007958, 0.23007856, 0.24007754, 0.25007652,\n",
       "       0.2600755 , 0.27007448, 0.28007346, 0.29007244, 0.30007142,\n",
       "       0.3100704 , 0.32006938, 0.33006836, 0.34006734, 0.35006632,\n",
       "       0.3600653 , 0.37006428, 0.38006326, 0.39006224, 0.40006122,\n",
       "       0.4100602 , 0.42005918, 0.43005816, 0.44005714, 0.45005612,\n",
       "       0.4600551 , 0.47005408, 0.48005306, 0.49005204, 0.50005102,\n",
       "       0.51004999, 0.52004897, 0.53004795, 0.54004693, 0.55004591,\n",
       "       0.56004489, 0.57004387, 0.58004285, 0.59004183, 0.60004081,\n",
       "       0.61003979, 0.62003877, 0.63003775, 0.64003673, 0.65003571,\n",
       "       0.66003469, 0.67003367, 0.68003265, 0.69003163, 0.70003061,\n",
       "       0.71002959, 0.72002857, 0.73002755, 0.74002653, 0.75002551,\n",
       "       0.76002449, 0.77002347, 0.78002245, 0.79002143, 0.80002041,\n",
       "       0.81001939, 0.82001837, 0.83001735, 0.84001632, 0.8500153 ,\n",
       "       0.86001428, 0.87001326, 0.88001224, 0.89001122, 0.9000102 ,\n",
       "       0.91000918, 0.92000816, 0.93000714, 0.94000612, 0.9500051 ,\n",
       "       0.96000408, 0.97000306, 0.98000204, 0.99000102, 0.        ])"
      ]
     },
     "execution_count": 26,
     "metadata": {},
     "output_type": "execute_result"
    }
   ],
   "source": [
    "x % L"
   ]
  },
  {
   "cell_type": "code",
   "execution_count": 87,
   "metadata": {},
   "outputs": [
    {
     "data": {
      "image/png": "[encoded data removed]",
      "text/plain": [
       "<Figure size 432x288 with 1 Axes>"
      ]
     },
     "metadata": {
      "needs_background": "light"
     },
     "output_type": "display_data"
    }
   ],
   "source": [
    "test= lambda x,t : (1/(σ*(2*np.pi)**0.5)) * np.exp(-0.5*(((x -a*t)-μ)/σ)**2)\n",
    "\n",
    "for j in np.linspace(1,nt*dt,nt):\n",
    "    x = x % L\n",
    "    new = gauss(x) + gauss(x)\n",
    "    plt.plot(x,gauss(x))"
   ]
  },
  {
   "cell_type": "code",
   "execution_count": 48,
   "metadata": {},
   "outputs": [
    {
     "ename": "TypeError",
     "evalue": "<lambda>() takes 1 positional argument but 2 were given",
     "output_type": "error",
     "traceback": [
      "\u001b[0;31m---------------------------------------------------------------------------\u001b[0m",
      "\u001b[0;31mTypeError\u001b[0m                                 Traceback (most recent call last)",
      "\u001b[0;32m<ipython-input-48-7bd8f01cb595>\u001b[0m in \u001b[0;36m<module>\u001b[0;34m\u001b[0m\n\u001b[1;32m     10\u001b[0m     \u001b[0;32mreturn\u001b[0m \u001b[0;34m(\u001b[0m\u001b[0;36m1\u001b[0m\u001b[0;34m/\u001b[0m\u001b[0;34m(\u001b[0m\u001b[0mσ\u001b[0m\u001b[0;34m*\u001b[0m\u001b[0;34m(\u001b[0m\u001b[0;36m2\u001b[0m\u001b[0;34m*\u001b[0m\u001b[0mnp\u001b[0m\u001b[0;34m.\u001b[0m\u001b[0mpi\u001b[0m\u001b[0;34m)\u001b[0m\u001b[0;34m**\u001b[0m\u001b[0;36m0.5\u001b[0m\u001b[0;34m)\u001b[0m\u001b[0;34m)\u001b[0m \u001b[0;34m*\u001b[0m \u001b[0mnp\u001b[0m\u001b[0;34m.\u001b[0m\u001b[0mexp\u001b[0m\u001b[0;34m(\u001b[0m\u001b[0;34m-\u001b[0m\u001b[0;36m0.5\u001b[0m\u001b[0;34m*\u001b[0m\u001b[0;34m(\u001b[0m\u001b[0;34m(\u001b[0m\u001b[0;34m(\u001b[0m\u001b[0mx\u001b[0m\u001b[0;34m-\u001b[0m\u001b[0ma\u001b[0m\u001b[0;34m*\u001b[0m\u001b[0mj\u001b[0m\u001b[0;34m)\u001b[0m\u001b[0;34m-\u001b[0m\u001b[0mμ\u001b[0m\u001b[0;34m)\u001b[0m\u001b[0;34m/\u001b[0m\u001b[0mσ\u001b[0m\u001b[0;34m)\u001b[0m\u001b[0;34m**\u001b[0m\u001b[0;36m2\u001b[0m\u001b[0;34m)\u001b[0m\u001b[0;34m\u001b[0m\u001b[0;34m\u001b[0m\u001b[0m\n\u001b[1;32m     11\u001b[0m \u001b[0;34m\u001b[0m\u001b[0m\n\u001b[0;32m---> 12\u001b[0;31m \u001b[0;32massert\u001b[0m \u001b[0mf\u001b[0m\u001b[0;34m(\u001b[0m\u001b[0;36m2.5\u001b[0m\u001b[0;34m,\u001b[0m\u001b[0;36m9\u001b[0m\u001b[0;34m)\u001b[0m \u001b[0;34m==\u001b[0m \u001b[0;36m0.5\u001b[0m\u001b[0;34m\u001b[0m\u001b[0;34m\u001b[0m\u001b[0m\n\u001b[0m",
      "\u001b[0;31mTypeError\u001b[0m: <lambda>() takes 1 positional argument but 2 were given"
     ]
    }
   ],
   "source": [
    "def periodically_continued(a, b):\n",
    "    interval = b - a\n",
    "    return lambda f: lambda x,j: f((x - a) % interval + a)\n",
    "\n",
    "@periodically_continued(-1, 1)\n",
    "def f(x,j):\n",
    "    σ = 0.05\n",
    "    μ = 0.5\n",
    "    a = 3\n",
    "    return (1/(σ*(2*np.pi)**0.5)) * np.exp(-0.5*(((x-a*j)-μ)/σ)**2)\n",
    "\n",
    "assert f(2.5,9) == 0.5\n"
   ]
  },
  {
   "cell_type": "markdown",
   "metadata": {},
   "source": [
    "http://ramanujan.math.trinity.edu/rdaileda/teach/s14/m3357/lectures/lecture_1_21_slides.pdf"
   ]
  },
  {
   "cell_type": "code",
   "execution_count": 77,
   "metadata": {},
   "outputs": [
    {
     "data": {
      "text/plain": [
       "999"
      ]
     },
     "execution_count": 77,
     "metadata": {},
     "output_type": "execute_result"
    }
   ],
   "source": [
    "t"
   ]
  },
  {
   "cell_type": "code",
   "execution_count": 58,
   "metadata": {},
   "outputs": [
    {
     "data": {
      "image/png": "[encoded data removed]",
      "text/plain": [
       "<Figure size 432x288 with 1 Axes>"
      ]
     },
     "metadata": {
      "needs_background": "light"
     },
     "output_type": "display_data"
    }
   ],
   "source": [
    "for i in range(0,100):\n",
    "    plt.plot(np.linspace(0,2*pi), f(np.linspace(0,2*pi),t))"
   ]
  },
  {
   "cell_type": "markdown",
   "metadata": {},
   "source": [
    "https://stackoverflow.com/questions/32669101/how-to-define-periodic-function-in-python\n",
    "https://flipdazed.github.io/blog/python/periodic-boundary-conditions\n",
    "https://stackoverflow.com/questions/26022500/implementation-of-periodic-gaussian\n",
    "https://scicomp.stackexchange.com/questions/20113/periodic-boundary-condition-for-the-heat-equation-in-0-1"
   ]
  },
  {
   "cell_type": "code",
   "execution_count": 63,
   "metadata": {},
   "outputs": [
    {
     "data": {
      "text/plain": [
       "array([-0.98989899, -0.97990001, -0.96990103, -0.95990205, -0.94990307,\n",
       "       -0.93990409, -0.92990511, -0.91990613, -0.90990715, -0.89990817,\n",
       "       -0.88990919, -0.87991021, -0.86991123, -0.85991225, -0.84991327,\n",
       "       -0.83991429, -0.82991531, -0.81991634, -0.80991736, -0.79991838,\n",
       "       -0.7899194 , -0.77992042, -0.76992144, -0.75992246, -0.74992348,\n",
       "       -0.7399245 , -0.72992552, -0.71992654, -0.70992756, -0.69992858,\n",
       "       -0.6899296 , -0.67993062, -0.66993164, -0.65993266, -0.64993368,\n",
       "       -0.6399347 , -0.62993572, -0.61993674, -0.60993776, -0.59993878,\n",
       "       -0.5899398 , -0.57994082, -0.56994184, -0.55994286, -0.54994388,\n",
       "       -0.5399449 , -0.52994592, -0.51994694, -0.50994796, -0.49994898,\n",
       "       -0.48995001, -0.47995103, -0.46995205, -0.45995307, -0.44995409,\n",
       "       -0.43995511, -0.42995613, -0.41995715, -0.40995817, -0.39995919,\n",
       "       -0.38996021, -0.37996123, -0.36996225, -0.35996327, -0.34996429,\n",
       "       -0.33996531, -0.32996633, -0.31996735, -0.30996837, -0.29996939,\n",
       "       -0.28997041, -0.27997143, -0.26997245, -0.25997347, -0.24997449,\n",
       "       -0.23997551, -0.22997653, -0.21997755, -0.20997857, -0.19997959,\n",
       "       -0.18998061, -0.17998163, -0.16998265, -0.15998368, -0.1499847 ,\n",
       "       -0.13998572, -0.12998674, -0.11998776, -0.10998878, -0.0999898 ,\n",
       "       -0.08999082, -0.07999184, -0.06999286, -0.05999388, -0.0499949 ,\n",
       "       -0.03999592, -0.02999694, -0.01999796, -0.00999898, -1.        ])"
      ]
     },
     "execution_count": 63,
     "metadata": {},
     "output_type": "execute_result"
    }
   ],
   "source": [
    "x % L - L"
   ]
  },
  {
   "cell_type": "code",
   "execution_count": null,
   "metadata": {},
   "outputs": [],
   "source": []
  }
 ],
 "metadata": {
  "kernelspec": {
   "display_name": "Python 3",
   "language": "python",
   "name": "python3"
  },
  "language_info": {
   "codemirror_mode": {
    "name": "ipython",
    "version": 3
   },
   "file_extension": ".py",
   "mimetype": "text/x-python",
   "name": "python",
   "nbconvert_exporter": "python",
   "pygments_lexer": "ipython3",
   "version": "3.6.7"
  }
 },
 "nbformat": 4,
 "nbformat_minor": 2
}
