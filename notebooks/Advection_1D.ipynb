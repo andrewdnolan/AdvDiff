{
 "cells": [
  {
   "cell_type": "markdown",
   "metadata": {},
   "source": [
    "# Numerical Solutions to the Advection Eqaution in 1-D\n",
    "\n",
    "## Mathematical Problem\n",
    "\n",
    "The homogenous advection equation in one dimmension is  \n",
    "\\begin{align}\n",
    "  \\frac{\\partial u}{\\partial t} = a \\frac{\\partial u}{\\partial x}\n",
    "\\end{align}\n",
    "where $u(x,t)$ is a scalar field (_e.g._ density, enthalpy) and $a$ is the advection velocity. This hyperbolic equation is simple very useful for insight on how to numerically solve hyperbolic PDEs. In order to solve this equation (numerically or analytically) we need inital conidtions at $t_0$  \n",
    "\\begin{align}\n",
    "  u(x,t_0) = \\eta(x)\n",
    "\\end{align}\n",
    "and boundary conditions  \n",
    "\\begin{align}\n",
    "\\begin{aligned}\n",
    "  u(0, t) = g_0(t) \\;\\;\\; \\text{for} \\;\\;\\; t>0\\\\\n",
    "  u(L, t) = g_0(t) \\;\\;\\; \\text{for} \\;\\;\\; t>0\n",
    "\\end{aligned}\n",
    "\\end{align}  \n",
    "on the domain $0<x<L$."
   ]
  },
  {
   "cell_type": "markdown",
   "metadata": {},
   "source": [
    "## Numerical Approaches\n",
    "We will aplly finite differences on a discrete grid with grid points $(x_i, t_j)$ where  \n",
    "\\begin{align}\n",
    "  x_i = i h && t_j = jk\n",
    "\\end{align}\n",
    "Here $h = \\Delta x$ is the grid cell spacing and $k = \\Delta t$ is the time step, with $U^i_j \\approx u(x_i, t_j)$ is numerical approximation at $(x_i, t_j)$.  \n",
    "\n",
    "__Foward-Time Cenetered-Space (FTCS)__  \n",
    "\n",
    "A first order approach, using centered differences in space \n",
    "\\begin{align}  \n",
    "  \\frac{U_i^{j+1} - U_i^{j}}{\\Delta t} = -\\frac{a}{2 \\Delta x} \\left( U_{i+1}^{j} + U_{i-1}^{j}\\right)\n",
    "\\end{align}  \n",
    "and forward differences in time, can be written as   \n",
    "\\begin{align}  \n",
    "  U_i^{j+1} = U_i^{j} -\\frac{a \\Delta t}{2 \\Delta x} \\left( U_{i+1}^{j} + U_{i-1}^{j}\\right) . \n",
    "\\end{align} \n",
    "This method is not useful because of stability limitations and is only first order accurate. We will not use this in practice, but usefull for comparison to more accurate and stable methods.  \n",
    "\n",
    "__Lax-Wendroff__   \n",
    "This method is based on the Taylor series expansion  \n",
    "\\begin{align}\n",
    "  u(x,t_{j+1}) = u(x,t_{j}) + \\Delta u_t(x,t_n) + \\frac12 (\\Delta t)^2 u_{tt}(x,t_n) + \\ldots.\n",
    "  \\label{eqn:taylor}\n",
    "\\end{align}  \n",
    "From the governing equation we have $u_t = a u_x$, differentiating this with respect to $t$ gives  \n",
    "\\begin{align}  \n",
    "  u_{tt} = -au_{xt} = a^2 u_{xx}\n",
    "\\end{align}\n",
    "where we have used $u_{xt} = u_{tx} = (a u_x)_x $ based on equality of mixed derivatives. Subing these expressions for $u_t$ and $u_tt$ into Eqn. \\ref{eqn:taylor} gives  \n",
    "\\begin{align}\n",
    "  u(x,t_{j+1}) = u(x,t_{j}) + \\Delta t \\; au_x(x,t_n) + \\frac12 (\\Delta t)^2 a^2 u_{xx}(x,t_n) + \\ldots.\n",
    "\\end{align}\n",
    "Using only these first three terms and expanding the spatial derivatives using centered differences gives\n",
    "\\begin{align}  \n",
    "  U_i^{j+1} = U_i^{j} -\\frac{ \\Delta t}{2 \\Delta x} a \\left( U_{i+1}^{j} + U_{i-1}^{j}\\right) + \\frac{(\\Delta t)^2}{2 (\\Delta x)^2} a^2 \\left(U_{i-1}^{j} -2U_{i}^{j} + U_{i+1}^{j}\\right). \n",
    "\\end{align} \n",
    "the _Lax-Wendroff_ method, which is second order accurate. \n",
    "\n",
    "\n",
    "__Upwind__  \n",
    "The above methods are symetric in space, but the advection equation is aysymettric depending on the sign of $a$; if $a > 0$ the solution moves to the right and if $a<0$ the solution moves to the left. Therefore, under special circumstances when the solution is asymetteric we can take advantage of this  \n",
    "\\begin{align}  \n",
    "  U_i^{j+1} = U_i^{j} -\\frac{a \\Delta t}{\\Delta x} \\left( U_{i}^{j} - U_{i-1}^{j}\\right) \n",
    "\\end{align} \n",
    "or   \n",
    "\\begin{align}  \n",
    "  U_i^{j+1} = U_i^{j} -\\frac{a \\Delta t}{\\Delta x} \\left( U_{i+1}^{j} - U_{i}^{j}\\right) \n",
    "\\end{align} \n",
    "\n",
    "__Beam-Splitting__  \n",
    "\\begin{align}  \n",
    "  U_i^{j+1} = U_i^{j} -\\frac{ \\Delta t}{2 \\Delta x} a \\left( 3U_{i}^{j} - 4U_{i-1}^{j} + U_{i-2}^{j}\\right) + \\frac{(\\Delta t)^2}{2 (\\Delta x)^2} a^2 \\left(U_{i}^{j} -2U_{i-1}^{j} + U_{i-2}^{j}\\right). \n",
    "\\end{align} \n"
   ]
  },
  {
   "cell_type": "markdown",
   "metadata": {},
   "source": [
    "## Python Implementation"
   ]
  },
  {
   "cell_type": "code",
   "execution_count": 1,
   "metadata": {},
   "outputs": [],
   "source": [
    "# Global\n",
    "import sys \n",
    "import numpy as np \n",
    "import scipy.linalg as LA\n",
    "import matplotlib.pyplot as plt\n",
    "\n",
    "# Local\n",
    "sys.path.append('../')\n",
    "from advdiff.solvers import TDMA\n",
    "from advdiff.plot import animation"
   ]
  },
  {
   "cell_type": "code",
   "execution_count": 2,
   "metadata": {},
   "outputs": [],
   "source": [
    "def init_cond(x):\n",
    "    return  5*np.sin((x-np.pi/2))+5 \n",
    "\n",
    "def analytical(x,t):\n",
    "    return 5*np.sin(((x-(a*t))-np.pi/2))+5 "
   ]
  },
  {
   "cell_type": "code",
   "execution_count": 3,
   "metadata": {},
   "outputs": [
    {
     "ename": "ImportError",
     "evalue": "cannot import name 'FTCS'",
     "output_type": "error",
     "traceback": [
      "\u001b[0;31m---------------------------------------------------------------------------\u001b[0m",
      "\u001b[0;31mImportError\u001b[0m                               Traceback (most recent call last)",
      "\u001b[0;32m<ipython-input-3-c71662b918d7>\u001b[0m in \u001b[0;36m<module>\u001b[0;34m\u001b[0m\n\u001b[0;32m----> 1\u001b[0;31m \u001b[0;32mfrom\u001b[0m \u001b[0madvdiff\u001b[0m\u001b[0;34m.\u001b[0m\u001b[0mmodel\u001b[0m \u001b[0;32mimport\u001b[0m \u001b[0mFTCS\u001b[0m\u001b[0;34m,\u001b[0m\u001b[0mUpWind\u001b[0m\u001b[0;34m,\u001b[0m\u001b[0mLaxWendroff\u001b[0m\u001b[0;34m,\u001b[0m\u001b[0mBeamWarming\u001b[0m\u001b[0;34m\u001b[0m\u001b[0;34m\u001b[0m\u001b[0m\n\u001b[0m\u001b[1;32m      2\u001b[0m \u001b[0;34m\u001b[0m\u001b[0m\n\u001b[1;32m      3\u001b[0m \u001b[0mnitt\u001b[0m \u001b[0;34m=\u001b[0m \u001b[0;36m10\u001b[0m\u001b[0;34m\u001b[0m\u001b[0;34m\u001b[0m\u001b[0m\n\u001b[1;32m      4\u001b[0m \u001b[0ma\u001b[0m \u001b[0;34m=\u001b[0m \u001b[0;36m3.\u001b[0m                    \u001b[0;31m# wave speed\u001b[0m\u001b[0;34m\u001b[0m\u001b[0;34m\u001b[0m\u001b[0m\n\u001b[1;32m      5\u001b[0m \u001b[0mL\u001b[0m \u001b[0;34m=\u001b[0m \u001b[0;36m2\u001b[0m\u001b[0;34m*\u001b[0m\u001b[0mnp\u001b[0m\u001b[0;34m.\u001b[0m\u001b[0mpi\u001b[0m               \u001b[0;31m# Domain Length\u001b[0m\u001b[0;34m\u001b[0m\u001b[0;34m\u001b[0m\u001b[0m\n",
      "\u001b[0;31mImportError\u001b[0m: cannot import name 'FTCS'"
     ]
    }
   ],
   "source": [
    "from advdiff.model import FTCS,UpWind,LaxWendroff,BeamWarming\n",
    "\n",
    "nitt = 10\n",
    "a = 3.                    # wave speed \n",
    "L = 2*np.pi               # Domain Length \n",
    "σ = .5                    # courant number\n",
    "M = 10\n",
    "N = 10\n",
    "\n",
    "err = np.zeros(nitt)\n",
    "dt  = np.zeros(nitt)\n",
    "dx  = np.zeros(nitt)\n",
    "\n",
    "for index in range(nitt):\n",
    "    dx[index] = L / (N-1)\n",
    "    dt[index] = 3*(σ*dx[index])**2/a\n",
    "    x  = np.linspace(dx[index],L,M)  # spatial grid\n",
    "    u  = np.zeros((M,N+1))    # (num methods) X (nx) X (nt)\n",
    "    exact = np.zeros((M,N+1))\n",
    "    u[:,0] = init_cond(x)     # init. condition\n",
    "    \n",
    "    for t in range(0,N):\n",
    "        exact[:,t] = analytical(x,dt[index]*t)\n",
    "    \n",
    "    u  = UpWind(u,N,dt[index],dx[index],a)\n",
    "    err[index] = LA.norm(u - exact, 2)\n",
    "    N *= 2\n",
    "    M *= 2\n",
    "\n",
    "# fig, ax = plt.subplots(1,1)\n",
    "# ax.set_yscale('log')\n",
    "# ax.set_xscale('log')\n",
    "\n",
    "# ax.plot(np.log10((L / dx ) + 1),np.log10(err))"
   ]
  },
  {
   "cell_type": "code",
   "execution_count": null,
   "metadata": {},
   "outputs": [],
   "source": [
    "fig, ax = plt.subplots(1,1)\n",
    "\n",
    "ax.set_yscale('log')\n",
    "ax.set_xscale('log')\n",
    "\n",
    "ax.plot((1/dt)+1, err, 'x-')"
   ]
  },
  {
   "cell_type": "code",
   "execution_count": null,
   "metadata": {},
   "outputs": [],
   "source": [
    "(L/dt)+1"
   ]
  },
  {
   "cell_type": "code",
   "execution_count": null,
   "metadata": {},
   "outputs": [],
   "source": [
    "import numpy as np\n",
    "from advdiff.model import model\n",
    "\n",
    "params = {'L':2*np.pi,'nx':100,'T':2,'nt':100}\n",
    "test = model(**params)"
   ]
  },
  {
   "cell_type": "code",
   "execution_count": null,
   "metadata": {},
   "outputs": [],
   "source": [
    "from advdiff.model import model\n"
   ]
  },
  {
   "cell_type": "code",
   "execution_count": null,
   "metadata": {},
   "outputs": [],
   "source": []
  },
  {
   "cell_type": "code",
   "execution_count": null,
   "metadata": {},
   "outputs": [],
   "source": [
    "########################################################\n",
    "#################   Init. Constant   ###################\n",
    "########################################################\n",
    "a  = 3.                    # wave speed \n",
    "L  = 2*np.pi               # Domain Length \n",
    "nx = 50                    # Num. grid cells\n",
    "dx = L/(nx-1)              # grid spacing\n",
    "\n",
    "nt = 1000                  # Num time steps\n",
    "σ  = .5                    # courant number\n",
    "dt = 0.001                 # time step \n",
    "\n",
    "########################################################\n",
    "##################   Init. Domain   ####################\n",
    "########################################################\n",
    "x  = np.linspace(dx,L,nx)  # spatial grid\n",
    "u  = np.zeros((5,nx,nt+1)) # (num methods) X (nx) X (nt)\n",
    "u[:,:,0] = analytical(x,0)    # init. condition\n",
    "\n",
    "for j in range(0,nt):\n",
    "    # FTCS (0)\n",
    "    u[0,1:-1,j+1] = u[0,1:-1,j] - ((dt*a)/(dx*2)) * (u[0,2:,j] - u[0,0:-2,j])\n",
    "    # Up-wind (1)\n",
    "    u[1,1:-1,j+1] = u[1,1:-1,j] - ((dt*a)/dx)* (u[1,1:-1,j] - u[1,0:-2,j])  \n",
    "    # Lax-Wendroff (2)\n",
    "    u[2,1:-1,j+1] = u[2,1:-1,j] - ((dt*a)/(dx*2))*(u[2,2:,j] - u[2,0:-2,j]) + ((dt*a)**2/(2*dx**2))*(u[2,2:,j] - 2*u[2,1:-1,j] + u[2,0:-2,j])\n",
    "    \n",
    "    for i in range(1,nx-1):  \n",
    "        # Beam-Splitting (3)\n",
    "        u[3,i,j+1] = u[3,i,j] - ((dt*a)/(dx*2))* (3*u[3,i,j] - 4*u[3,i-1,j] + u[3,i-2,j]) + ((dt*a)**2/(2*dx**2))*(u[3,i,j] - 2*u[3,i-1,j] + u[3,i-2,j])\n",
    "        \n",
    "    #Anlytical (4)\n",
    "    u[4,:,j+1] = analytical(x,(j+1)*dt)\n",
    "        \n",
    "    # Periodic Boundary Cond.\n",
    "    u[:4,0,j+1]  = u[:4,-2,j+1]\n",
    "    u[:4,-1,j+1] = u[:4,1,j+1]"
   ]
  },
  {
   "cell_type": "code",
   "execution_count": null,
   "metadata": {},
   "outputs": [],
   "source": [
    "# for j in range(0,nt):\n",
    "#     #plt.plot(x,u[0,:,j],label='FTCS')\n",
    "plt.plot(x,u[0,:,j],'x-',label='FTCS')\n",
    "plt.plot(x,u[4,:,j],'-',label='FTCS')"
   ]
  },
  {
   "cell_type": "code",
   "execution_count": null,
   "metadata": {},
   "outputs": [],
   "source": [
    "LA.norm(u[0,:,:] - u[4,:,:])"
   ]
  },
  {
   "cell_type": "code",
   "execution_count": null,
   "metadata": {},
   "outputs": [],
   "source": [
    "error =np.zeros((4,nx,nt+1))\n",
    "\n",
    "# FTCS (0)\n",
    "error[0,:,:] = u[0,:,:] - u[4,:,:]\n",
    "# Up-wind (1)\n",
    "error[1,:,:] = u[1,:,:] - u[4,:,:]\n",
    "# Lax-Wendroff (2)\n",
    "error[2,:,:] = u[2,:,:] - u[4,:,:]\n",
    "# Beam-Splitting (3)\n",
    "error[3,:,:] = u[3,:,:] - u[4,:,:]\n",
    "\n",
    "for j in range(0,nt):\n",
    "    plt.plot(x,u[0,:,j],label='FTCS')"
   ]
  },
  {
   "cell_type": "code",
   "execution_count": null,
   "metadata": {},
   "outputs": [],
   "source": [
    "plt.imshow(u[0,:,:])"
   ]
  },
  {
   "cell_type": "code",
   "execution_count": null,
   "metadata": {},
   "outputs": [],
   "source": [
    "plt.plot(init_cond(x))"
   ]
  },
  {
   "cell_type": "code",
   "execution_count": null,
   "metadata": {},
   "outputs": [],
   "source": [
    "u[4,:,1]"
   ]
  },
  {
   "cell_type": "code",
   "execution_count": null,
   "metadata": {},
   "outputs": [],
   "source": [
    "u[0,1:-1,j].shape"
   ]
  },
  {
   "cell_type": "code",
   "execution_count": null,
   "metadata": {},
   "outputs": [],
   "source": [
    "test = np.arange(0,10)"
   ]
  },
  {
   "cell_type": "code",
   "execution_count": null,
   "metadata": {},
   "outputs": [],
   "source": [
    "test[-1]"
   ]
  },
  {
   "cell_type": "code",
   "execution_count": null,
   "metadata": {},
   "outputs": [],
   "source": []
  }
 ],
 "metadata": {
  "kernelspec": {
   "display_name": "Python 3",
   "language": "python",
   "name": "python3"
  },
  "language_info": {
   "codemirror_mode": {
    "name": "ipython",
    "version": 3
   },
   "file_extension": ".py",
   "mimetype": "text/x-python",
   "name": "python",
   "nbconvert_exporter": "python",
   "pygments_lexer": "ipython3",
   "version": "3.6.7"
  }
 },
 "nbformat": 4,
 "nbformat_minor": 2
}
