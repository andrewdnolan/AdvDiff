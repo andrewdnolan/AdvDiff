{
 "cells": [
  {
   "cell_type": "markdown",
   "metadata": {},
   "source": [
    "# Numerical Solutions to the Advection Eqaution in 1-D\n",
    "\n",
    "## Mathematical Problem\n",
    "\n",
    "The homogenous advection equation in one dimmension is  \n",
    "\\begin{align}\n",
    "  \\frac{\\partial u}{\\partial t} = a \\frac{\\partial u}{\\partial x}\n",
    "\\end{align}\n",
    "where $u(x,t)$ is a scalar field (_e.g._ density, enthalpy) and $a$ is the advection velocity. This hyperbolic equation is simple very useful for insight on how to numerically solve hyperbolic PDEs. In order to solve this equation (numerically or analytically) we need inital conidtions at $t_0$  \n",
    "\\begin{align}\n",
    "  u(x,t_0) = \\eta(x)\n",
    "\\end{align}\n",
    "and boundary conditions  \n",
    "\\begin{align}\n",
    "\\begin{aligned}\n",
    "  u(0, t) = g_0(t) \\;\\;\\; \\text{for} \\;\\;\\; t>0\\\\\n",
    "  u(L, t) = g_0(t) \\;\\;\\; \\text{for} \\;\\;\\; t>0\n",
    "\\end{aligned}\n",
    "\\end{align}  \n",
    "on the domain $0<x<L$."
   ]
  },
  {
   "cell_type": "markdown",
   "metadata": {},
   "source": [
    "## Numerical Approaches\n",
    "We will aplly finite differences on a discrete grid with grid points $(x_i, t_j)$ where  \n",
    "\\begin{align}\n",
    "  x_i = i h && t_j = jk\n",
    "\\end{align}\n",
    "Here $h = \\Delta x$ is the grid cell spacing and $k = \\Delta t$ is the time step, with $U^i_j \\approx u(x_i, t_j)$ is numerical approximation at $(x_i, t_j)$.  \n",
    "\n",
    "__Foward-Time Cenetered-Space (FTCS)__  \n",
    "\n",
    "A first order approach, using centered differences in space \n",
    "\\begin{align}  \n",
    "  \\frac{U_i^{j+1} - U_i^{j}}{\\Delta t} = -\\frac{a}{2 \\Delta x} \\left( U_{i+1}^{j} + U_{i-1}^{j}\\right)\n",
    "\\end{align}  \n",
    "and forward differences in time, can be written as   \n",
    "\\begin{align}  \n",
    "  U_i^{j+1} = U_i^{j} -\\frac{a \\Delta t}{2 \\Delta x} \\left( U_{i+1}^{j} + U_{i-1}^{j}\\right) . \n",
    "\\end{align} \n",
    "This method is not useful because of stability limitations and is only first order accurate. We will not use this in practice, but usefull for comparison to more accurate and stable methods.  \n",
    "\n",
    "__Lax-Wendroff__   \n",
    "This method is based on the Taylor series expansion  \n",
    "\\begin{align}\n",
    "  u(x,t_{j+1}) = u(x,t_{j}) + \\Delta u_t(x,t_n) + \\frac12 (\\Delta t)^2 u_{tt}(x,t_n) + \\ldots.\n",
    "  \\label{eqn:taylor}\n",
    "\\end{align}  \n",
    "From the governing equation we have $u_t = a u_x$, differentiating this with respect to $t$ gives  \n",
    "\\begin{align}  \n",
    "  u_{tt} = -au_{xt} = a^2 u_{xx}\n",
    "\\end{align}\n",
    "where we have used $u_{xt} = u_{tx} = (a u_x)_x $ based on equality of mixed derivatives. Subing these expressions for $u_t$ and $u_tt$ into Eqn. \\ref{eqn:taylor} gives  \n",
    "\\begin{align}\n",
    "  u(x,t_{j+1}) = u(x,t_{j}) + \\Delta t \\; au_x(x,t_n) + \\frac12 (\\Delta t)^2 a^2 u_{xx}(x,t_n) + \\ldots.\n",
    "\\end{align}\n",
    "Using only these first three terms and expanding the spatial derivatives using centered differences gives\n",
    "\\begin{align}  \n",
    "  U_i^{j+1} = U_i^{j} -\\frac{ \\Delta t}{2 \\Delta x} a \\left( U_{i+1}^{j} + U_{i-1}^{j}\\right) + \\frac{(\\Delta t)^2}{2 (\\Delta x)^2} a^2 \\left(U_{i-1}^{j} -2U_{i}^{j} + U_{i+1}^{j}\\right). \n",
    "\\end{align} \n",
    "the _Lax-Wendroff_ method, which is second order accurate. \n",
    "\n",
    "\n",
    "__Upwind__  \n",
    "The above methods are symetric in space, but the advection equation is aysymettric depending on the sign of $a$; if $a > 0$ the solution moves to the right and if $a<0$ the solution moves to the left. Therefore, under special circumstances when the solution is asymetteric we can take advantage of this  \n",
    "\\begin{align}  \n",
    "  U_i^{j+1} = U_i^{j} -\\frac{a \\Delta t}{\\Delta x} \\left( U_{i}^{j} + U_{i-1}^{j}\\right) \n",
    "\\end{align} \n",
    "or   \n",
    "\\begin{align}  \n",
    "  U_i^{j+1} = U_i^{j} -\\frac{a \\Delta t}{\\Delta x} \\left( U_{i+1}^{j} + U_{i}^{j}\\right) \n",
    "\\end{align} \n",
    "\n",
    "__Beam-Splitting__"
   ]
  },
  {
   "cell_type": "markdown",
   "metadata": {},
   "source": [
    "## Python Implementation"
   ]
  },
  {
   "cell_type": "code",
   "execution_count": 10,
   "metadata": {},
   "outputs": [],
   "source": [
    "import numpy as np \n",
    "import matplotlib.pyplot as plt"
   ]
  },
  {
   "cell_type": "code",
   "execution_count": 11,
   "metadata": {},
   "outputs": [],
   "source": [
    "def gauss(x, σ = 0.05, μ = 0.5):\n",
    "    '''1-D Gaussian Curve\n",
    "    \n",
    "    Keyword arguments:\n",
    "    σ -- σ^2 is the variance\n",
    "    μ -- Mean (i.e. center) \n",
    "    '''\n",
    "    return 1./(σ*(2*np.pi)**2)*np.exp(-0.5*((x-μ)/σ)**2)\n",
    "\n",
    "########################################################\n",
    "#################   Init. Constant   ###################\n",
    "########################################################\n",
    "a  = 3e-6                  # wave speed \n",
    "L  = 1.                    # Domain Length \n",
    "nx = 100                   # Num. grid cells\n",
    "dx = L/(nx-1)              # grid spacing\n",
    "\n",
    "nt = 100                   # Num time steps\n",
    "σ  = .75                   # courant number\n",
    "dt = (σ*dx)**2/κ           # time step \n",
    "\n",
    "########################################################\n",
    "##################   Init. Domain   ####################\n",
    "########################################################\n",
    "r  = (κ*dt)/(2*dx**2)      # matrix const.\n",
    "x  = np.linspace(dx,L,nx)  # spatial grid\n",
    "u  = np.zeros((5,nx,nt+1)) # (num methods) X (nx) X (nt)\n",
    "u[:,:,0] = gauss(x)        # init. condition"
   ]
  },
  {
   "cell_type": "code",
   "execution_count": null,
   "metadata": {},
   "outputs": [],
   "source": []
  }
 ],
 "metadata": {
  "kernelspec": {
   "display_name": "Python 3",
   "language": "python",
   "name": "python3"
  },
  "language_info": {
   "codemirror_mode": {
    "name": "ipython",
    "version": 3
   },
   "file_extension": ".py",
   "mimetype": "text/x-python",
   "name": "python",
   "nbconvert_exporter": "python",
   "pygments_lexer": "ipython3",
   "version": "3.6.7"
  }
 },
 "nbformat": 4,
 "nbformat_minor": 2
}
