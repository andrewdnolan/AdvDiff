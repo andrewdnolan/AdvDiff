{
 "cells": [
  {
   "cell_type": "markdown",
   "metadata": {},
   "source": [
    "# Numerical Solutions to the Diffusion Eqaution in 1-D  \n",
    "\n",
    "## Mathematical Problem\n",
    "The diffusion equation in one dimmesion ($x$) is   \n",
    "\n",
    "\\begin{align}\n",
    "  \\frac{\\partial u}{\\partial t}  =  \\kappa \\frac{\\partial^2 u}{\\partial x^2} . \n",
    "\\end{align}\n",
    "\n",
    "The parabolic equation is simple, but a useful test case for numerical insights into the solutions of parabolic equations. To solve this equation, numerically or analytically, we need an inital condition at $t_0$, \n",
    "\\begin{align}\n",
    "u(x,t_0) = \\eta(x)\n",
    "\\end{align}\n",
    "and boundary conditions \n",
    "\\begin{align}\n",
    "\\begin{aligned}\n",
    "u(0,t) &= g_0(t) \\;\\; \\text{for} \\;\\; t>0\\\\\n",
    "u(1,t) &= g_1(t) \\;\\; \\text{for} \\;\\; t>0\\\\\n",
    "\\end{aligned}\n",
    "\\end{align}\n",
    "in this case Dirichlet conditions on the domain $0 \\leq x \\leq 1$. \n",
    "\n",
    "\n",
    "## Numerical Approach \n",
    "\n",
    "We will aplly finite differences on a discrete grid with grid points $(x_i, t_j)$ where\n",
    "\\begin{align}\n",
    "  x_i = i h && t_j = j k. \n",
    "\\end{align}\n",
    "Here $h = \\Delta x$ is the grid cell spacing and $k = \\Delta t$ is the time step, with $U^i_j \\approx u(x_i, t_j)$ is numerical approximation at $(x_i, t_j)$.\n",
    "\n",
    "A classical forward in time one-step approach for solving the diffusion equation is the _Crank-Nicolson_ method\n",
    "\n",
    "\\begin{align}  \n",
    "  \\frac{U_i^{j+1} - U_i^{j}}{\\Delta t} &= \\kappa \\frac{1}{2} \\left( D_{xx} U_i^{j+1} + D_{xx} U_i^{j}\\right)\n",
    "\\end{align}  \n",
    "\n",
    "where $D_{xx}$ is the discrete differential operator for the second derivative. Expanding the second derivative with centered differences \n",
    "\\begin{align}  \n",
    "  \\frac{U_i^{j+1} - U_i^{j}}{\\Delta t} &= \\frac{\\kappa}{2 \\Delta x^2} \\left( U_{i+1}^{j+1} - 2U_i^{j+1} + U_{i-1}^{j+1} + U_{i+1}^{j} - 2 U_{i}^{j} + U_{i-1}^{j}\\right)\n",
    "\\end{align}  \n",
    "that can be rearranged as \n",
    "\\begin{align}  \n",
    "  U_i^{j+1} &= U_i^{j} + \\frac{\\kappa \\Delta t}{2 \\Delta x^2} \\left( U_{i+1}^{j+1} - 2U_i^{j+1} + U_{i-1}^{j+1} + U_{i+1}^{j} - 2 U_{i}^{j} + U_{i-1}^{j}\\right)\n",
    "\\end{align}  \n",
    "or \n",
    "\\begin{align}  \n",
    "  -r U_{i-1}^{j+1} + (1+2r)\\;U_i^{j+1} -r U_{i+1}^{j+1}&= r U_{i-1}^{j} + (1-2r)\\;U_i^{j} + r U_{i+1}^{j}\n",
    "  \\label{eq:unp1l}\n",
    "\\end{align}  \n",
    "where $ r = \\left. \\kappa \\Delta t \\middle/ 2 \\Delta x^2 \\right.$. This is an _implicit_ method since the solution for $U_n^{j+1}$ depends on both $U_n^{j}$ and itself ($U_n^{j+1}$). The method gives a tridiagonal system of equations to solve for all $U_n^{j+1}$ values simultaneously. Equation \\ref{eq:unp1l} above holds for the interior points $i = 2, \\ldots, i-1$, but not on the boundaries $i = 1,L$. We must look at the the discrete equation in more detail at those points. At $i=1$ \n",
    "\\begin{align}  \n",
    " -r \\underbrace{U_{0}^{j+1}}_{g_0( {t_{j+1}} )} + (1+2r)\\;U_1^{j+1} -r U_{2}^{j+1} &= r \\underbrace{U_{0}^{j}}_{g_0( {t_{j}} )} + (1-2r)\\;U_1^{j} + r U_{2}^{j}\n",
    "\\end{align}  \n",
    "that simplifies to\n",
    "\\begin{align}\n",
    "-r U_{2}^{j+1} + (1+2r)\\; U_1^{j+1} =  r \\left(g_0( {t_{j+1}} ) + g_0( {t_{j}} )\\right) + (1-2r)\\;U_1^{j} + r U_{2}^{j} \n",
    "\\end{align}\n",
    "the same can be done for the $i=L$. Using both boundary conditions the system of equations in matrix form is \n",
    "\n",
    "$$\n",
    "\\begin{bmatrix}\n",
    "    (1+2 r)  & -r &  &  &  &  \\\\\n",
    "    -r & (1+2 r) & -r &  &  &  \\\\\n",
    "     & -r & (1+2 r) & -r &  &   \\\\\n",
    "     &  & \\ddots & \\ddots & \\ddots &  \\\\\n",
    "     &  & & -r & (1+2 r) & -r \\\\\n",
    "     &  & &    & -r & (1+2 r) \n",
    "    \\end{bmatrix}\n",
    "    \\begin{bmatrix}\n",
    "    U_1^{n+1} \\\\\n",
    "    U_2^{n+1} \\\\\n",
    "    U_3^{n+1} \\\\\n",
    "    \\vdots \\\\\n",
    "    U_{m-1}^{n+1} \\\\\n",
    "    U_{m}^{n+1}\n",
    "    \\end{bmatrix} =\n",
    "    \\begin{bmatrix}\n",
    "    r \\left(g_0( {t_{j+1}} ) + g_0( {t_{j}} )\\right) + (1-2r)\\;U_1^{j} + r U_{2}^{j}  \\\\\n",
    "    r U_{1}^{j} + (1-2r)\\;U_2^{j} + r U_{3}^{j} \\\\\n",
    "    r U_{2}^{j} + (1-2r)\\;U_{3}^{j} + r U_{4}^{j} \\\\\n",
    "    \\vdots \\\\\n",
    "    r U_{m-2}^{j} + (1-2r)\\;U_{m-1}^{j} + r U_{m}^{j} \\\\\n",
    "    r U_{m-1}^{j} + (1-2r)\\;U_{m}^{j} + r \\left(g_1( {t_{j+1}} ) + g_1( {t_{j}} )\\right)\n",
    "    \\end{bmatrix} .\n",
    "$$\n",
    "\n",
    "How to best solve this linear system of equations is a question worth diving deeper into. The linear system above is tridiagonal, meaning it only has enteries on the main-, sub-, and super- diagonal positions. A general linear system is typically of form $Ax = b$, where $A \\in {\\rm I\\!R}^{M\\times N}$, $b$ is known vector, and $x$ is the unkown vector in question (here $U_i^{j+1}$ for all $i$). The trivial way to solve this linear system is through matrix inversion \n",
    "$$\n",
    "x = A^{-1}b\n",
    "$$\n",
    "which in an of it self is an ill-conditioned operation, but none the less takes $\\cal{O}(n^3)$. But for a matrix to be invertible $M = N$ and therefore our number of spatial points must equal out timesteps which is severly limiting.  \n",
    "\n",
    "Another naive solution might be Gaussian Elimination that also takes $\\cal{O}(n^3)$. \n",
    "\n",
    "Since we are using an _implicit_ scheme, ones first thought might be to use an itterative solver, but we can exploit the fact that this matrix is tridiagonal and use the extremely efficent __Thomas algorithm__ with a complexity of $\\cal{O}(n)$. "
   ]
  },
  {
   "cell_type": "code",
   "execution_count": 1,
   "metadata": {},
   "outputs": [],
   "source": [
    "import sys \n",
    "sys.path.append('/Users/andrewnolan/sfuvault/numerical_EASC711/09_Project/AdvDiff')\n",
    "\n",
    "import numpy as np \n",
    "import matplotlib.pyplot as plt\n"
   ]
  },
  {
   "cell_type": "code",
   "execution_count": 223,
   "metadata": {},
   "outputs": [
    {
     "data": {
      "image/png": "[encoded data removed]",
      "text/plain": [
       "<Figure size 432x288 with 1 Axes>"
      ]
     },
     "metadata": {
      "needs_background": "light"
     },
     "output_type": "display_data"
    }
   ],
   "source": [
    "kappa = 3e-6\n",
    "\n",
    "L  = 10.\n",
    "nx = 41\n",
    "dx = L/ (nx - 1)\n",
    "x  = np.linspace(dx,L,nx)\n",
    "\n",
    "nt = 1000\n",
    "\n",
    "sigma = .2 \n",
    "\n",
    "dt = sigma * dx**2 / kappa\n",
    "\n",
    "r = (kappa * dt ) / (2 * dx**2)\n",
    "\n",
    "u = np.zeros((nx,nt+1))\n",
    "u[:,0] = np.ones(nx)\n",
    "u[int(4 / dx):int(5 / dx + 1),0] = 2\n",
    "\n",
    "m = n = 10\n",
    "A = np.diagflat([[(1+2*r) for __ in range(nx)]]) + \\\n",
    "    np.diagflat([[(-r)  for __ in range(nx-1)]],1) +\\\n",
    "    np.diagflat([[(-r)  for __ in range(nx-1)]],-1)\n",
    "\n",
    "B = np.diagflat([[(1-2*r) for __ in range(nx)]]) + \\\n",
    "    np.diagflat([[(r)  for __ in range(nx-1)]],1) +\\\n",
    "    np.diagflat([[(r)  for __ in range(nx-1)]],-1)\n",
    "\n",
    "for t in range(nt):\n",
    "    \n",
    "    b = B.dot(u[:,t].reshape(-1,1)) \n",
    "    b[0]  = b[1]\n",
    "    b[-1] = b[-2]\n",
    "    \n",
    "    u[:,t+1] = TDMA(A,b).flatten()\n",
    "    \n",
    "    u[0,t+1]  = u[1,t+1]\n",
    "    u[-1,t+1] = u[-2,t+1]   \n",
    "    \n",
    "    plt.plot(x,u[:,t],c = 'r',)"
   ]
  },
  {
   "cell_type": "code",
   "execution_count": 220,
   "metadata": {},
   "outputs": [
    {
     "data": {
      "text/plain": [
       "0.003"
      ]
     },
     "execution_count": 220,
     "metadata": {},
     "output_type": "execute_result"
    }
   ],
   "source": [
    "3e-3"
   ]
  },
  {
   "cell_type": "code",
   "execution_count": 211,
   "metadata": {},
   "outputs": [
    {
     "data": {
      "text/plain": [
       "0.04166666666666667"
      ]
     },
     "execution_count": 211,
     "metadata": {},
     "output_type": "execute_result"
    }
   ],
   "source": [
    "dt"
   ]
  },
  {
   "cell_type": "code",
   "execution_count": 206,
   "metadata": {},
   "outputs": [],
   "source": [
    "mass = np.empty(u.shape[1])\n",
    "for col in range(u.shape[1]):\n",
    "    mass[col] = sum(u[:,col])\n",
    "    "
   ]
  },
  {
   "cell_type": "code",
   "execution_count": 207,
   "metadata": {},
   "outputs": [
    {
     "data": {
      "text/plain": [
       "array([1., 1., 1., 1., 1., 1., 1., 1., 1., 1., 1., 1., 1., 1., 1., 1., 2.,\n",
       "       2., 2., 2., 2., 1., 1., 1., 1., 1., 1., 1., 1., 1., 1., 1., 1., 1.,\n",
       "       1., 1., 1., 1., 1., 1., 1.])"
      ]
     },
     "execution_count": 207,
     "metadata": {},
     "output_type": "execute_result"
    }
   ],
   "source": [
    "u[:,0]"
   ]
  },
  {
   "cell_type": "code",
   "execution_count": 208,
   "metadata": {},
   "outputs": [
    {
     "data": {
      "text/plain": [
       "array([[0.91025345],\n",
       "       [0.98701586],\n",
       "       [0.99791137],\n",
       "       [0.99974088],\n",
       "       [0.99997122],\n",
       "       [0.99999699],\n",
       "       [0.9999997 ],\n",
       "       [0.99999998],\n",
       "       [1.00000006],\n",
       "       [1.00000063],\n",
       "       [1.00000645],\n",
       "       [1.0000639 ],\n",
       "       [1.00060678],\n",
       "       [1.00538716],\n",
       "       [1.04222884],\n",
       "       [1.24146619],\n",
       "       [1.75846345],\n",
       "       [1.95716374],\n",
       "       [1.98922557],\n",
       "       [1.95716374],\n",
       "       [1.75846345],\n",
       "       [1.24146619],\n",
       "       [1.04222884],\n",
       "       [1.00538716],\n",
       "       [1.00060678],\n",
       "       [1.0000639 ],\n",
       "       [1.00000645],\n",
       "       [1.00000063],\n",
       "       [1.00000006],\n",
       "       [1.00000001],\n",
       "       [1.        ],\n",
       "       [1.        ],\n",
       "       [1.        ],\n",
       "       [0.99999997],\n",
       "       [0.9999997 ],\n",
       "       [0.99999699],\n",
       "       [0.99997122],\n",
       "       [0.99974088],\n",
       "       [0.99791137],\n",
       "       [0.98701586],\n",
       "       [0.91025345]])"
      ]
     },
     "execution_count": 208,
     "metadata": {},
     "output_type": "execute_result"
    }
   ],
   "source": [
    "jacobi(A,b)"
   ]
  },
  {
   "cell_type": "code",
   "execution_count": 189,
   "metadata": {},
   "outputs": [
    {
     "data": {
      "text/plain": [
       "<matplotlib.colorbar.Colorbar at 0x111fa5400>"
      ]
     },
     "execution_count": 189,
     "metadata": {},
     "output_type": "execute_result"
    },
    {
     "data": {
      "image/png": "[encoded data removed]",
      "text/plain": [
       "<Figure size 432x288 with 2 Axes>"
      ]
     },
     "metadata": {
      "needs_background": "light"
     },
     "output_type": "display_data"
    }
   ],
   "source": [
    "plt.imshow(u)\n",
    "plt.colorbar()"
   ]
  },
  {
   "cell_type": "code",
   "execution_count": null,
   "metadata": {},
   "outputs": [],
   "source": []
  }
 ],
 "metadata": {
  "kernelspec": {
   "display_name": "Python 3",
   "language": "python",
   "name": "python3"
  },
  "language_info": {
   "codemirror_mode": {
    "name": "ipython",
    "version": 3
   },
   "file_extension": ".py",
   "mimetype": "text/x-python",
   "name": "python",
   "nbconvert_exporter": "python",
   "pygments_lexer": "ipython3",
   "version": "3.6.7"
  }
 },
 "nbformat": 4,
 "nbformat_minor": 2
}
