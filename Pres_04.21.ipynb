{
 "cells": [
  {
   "cell_type": "markdown",
   "metadata": {
    "slideshow": {
     "slide_type": "slide"
    }
   },
   "source": [
    "# Numerical Solutions to the Advection-Diffusion Equation   \n",
    "### EASC 709: Numerical Methods\n",
    "__04/21/2020__"
   ]
  },
  {
   "cell_type": "markdown",
   "metadata": {
    "hideCode": true,
    "hidePrompt": false,
    "slideshow": {
     "slide_type": "slide"
    }
   },
   "source": [
    "## Mathematical Problem  \n",
    "\n",
    "The advection-diffusion equation in one dimension ($x$) is   \n",
    "\n",
    "\\begin{equation}\n",
    "    \\begin{split}\n",
    "        \\frac{\\partial u}{\\partial t} + a \\frac{\\partial u}{ \\partial x} = \\kappa \\frac{\\partial^2 u}{\\partial x^2}\n",
    "    \\end{split}\n",
    "    \\quad \\quad\n",
    "    \\begin{split}\n",
    "        &u(x,t)\\text{ is a scalar field }\\\\\n",
    "        &\\kappa\\text{ is a diffusivity coef.}\\\\\n",
    "        &a \\text{ is a scalar velocity}\n",
    "    \\end{split}\n",
    "\\end{equation}  \n",
    "\n",
    "In order to solve this equation (numerically or analytically) we need initial conditions at $t_0$  \n",
    "\n",
    "\\begin{align}\n",
    "  u(x,t_0) = \\eta(x)\n",
    "\\end{align}\n",
    "\n",
    "and boundary conditions (in the case of a finite domain)  \n",
    "\n",
    "\\begin{align}\n",
    "\\begin{aligned}\n",
    "  u(0, t) = g_0(t) \\;\\;\\; \\text{for} \\;\\;\\; t>0\\\\\n",
    "  u(L, t) = g_0(t) \\;\\;\\; \\text{for} \\;\\;\\; t>0\n",
    "\\end{aligned}\n",
    "\\end{align}  \n",
    "on the domain $0<x<L$."
   ]
  },
  {
   "cell_type": "markdown",
   "metadata": {
    "slideshow": {
     "slide_type": "slide"
    }
   },
   "source": [
    "## Numerical Approaches  \n",
    "\n",
    "Lets rewrite advection-diffusion equation  \n",
    "\\begin{align}\n",
    "    \\frac{\\partial u}{\\partial t} + a \\frac{\\partial u}{ \\partial x} = \\kappa \\frac{\\partial^2 u}{\\partial x^2}\n",
    "\\end{align}  \n",
    "as \n",
    "\\begin{align}\n",
    "  \\underbrace{u_t}_{\\frac{\\partial u}{\\partial t}} = \\underbrace{\\mathcal{A}(u)}_{ a \\frac{\\partial u}{ \\partial x} } + \\underbrace{\\mathcal{B}(u)}_{\\kappa \\frac{\\partial^2 u}{\\partial x^2}} \\;\\; . \n",
    "\\end{align}\n",
    "\n",
    "In the case of Adv.-Diff. Eqn. "
   ]
  },
  {
   "cell_type": "markdown",
   "metadata": {
    "slideshow": {
     "slide_type": "subslide"
    }
   },
   "source": [
    "### Fractional Step Methods : __Godunov Splitting__    \n",
    "\n",
    "For the equation\n",
    "\n",
    "\\begin{align}\n",
    "  u_t = \\mathcal{A}(u) + \\mathcal{B}(u)\n",
    "\\end{align}\n",
    "\n",
    "the simplest (first-order) numerical solution takes the form:\n",
    "\n",
    "\\begin{align}\n",
    "\\begin{aligned}\n",
    "U^* &= \\mathcal{N}_{\\mathcal{A}}(U^n,k), \\\\\n",
    "U^{n+1} &= \\mathcal{N}_{\\mathcal{B}}(U^*,k)\n",
    "\\end{aligned}\n",
    "\\end{align}\n",
    "\n",
    "where:  \n",
    "  - $\\mathcal{N}_{\\mathcal{A}}(U^n,k)$ solves $u_t = \\mathcal{A}(u)$ over a time step $k$ with input data, $U^n$ \n",
    "  - $\\mathcal{N}_{\\mathcal{B}}(U^*,k)$ similarly solves  $u_t = \\mathcal{B}(u)$ over a time step $k$ but with input data $U^*$  \n",
    "  \n",
    "such that: \n",
    "  - $\\mathcal{N}_{\\mathcal{A}}(U^n,k)$ is an optimal method to solve $u_t = \\mathcal{A}(u)$\n",
    "  - $\\mathcal{N}_{\\mathcal{B}}(U^*,k)$ is an optimal method to solve $u_t = \\mathcal{B}(u)$ ."
   ]
  },
  {
   "cell_type": "markdown",
   "metadata": {
    "slideshow": {
     "slide_type": "subslide"
    }
   },
   "source": [
    "### Fractional Step Methods:  __Strang Splitting__    \n",
    "A second-order accurate method for solving the equation:  \n",
    "\n",
    "\\begin{align}\n",
    "  u_t = \\mathcal{A}(u) + \\mathcal{B}(u)\n",
    "\\end{align}  \n",
    "known a Strang Splitting is:  \n",
    "\\begin{align}\n",
    "\\begin{aligned}\n",
    "U^* &= \\mathcal{N}_{\\mathcal{A}}(U^n,k/2), \\\\\n",
    "U^{**} &= \\mathcal{N}_{\\mathcal{B}}(U^*,k), \\\\\n",
    "U^{n+1} &= \\mathcal{N}_{\\mathcal{A}}(U^{**},k/2) \\;\\; .\n",
    "\\end{aligned}\n",
    "\\end{align}"
   ]
  },
  {
   "cell_type": "markdown",
   "metadata": {
    "slideshow": {
     "slide_type": "subslide"
    }
   },
   "source": [
    "## Fractional Step Methods:  \n",
    "\n",
    "__Pros__:  \n",
    "  - Avoid a non-linear system of equations that could arise if you discretized the equation with a fully implicit method. \n",
    "  - Easy to implement! (Kinda...)  \n",
    "  \n",
    "__Cons__:\n",
    "  - If the sub-methods used ($\\mathcal{N}_{\\mathcal{A}} \\; \\& \\; \\mathcal{N}_{\\mathcal{B}}$) are at least second order accurate, the highest order accuracy you can achieve is second order accuracy (for Strang Splitting). \n",
    "  - Even if sub-methods ($\\mathcal{N}_{\\mathcal{A}} \\; \\& \\; \\mathcal{N}_{\\mathcal{B}}$) are stable to timestep $k$, it is not guaranteed that the splitting methods will be stable. \n",
    "  - Does not account of a coupling between $\\mathcal{A}(u) \\; \\& \\; \\mathcal{B}(u)$"
   ]
  },
  {
   "cell_type": "code",
   "execution_count": 6,
   "metadata": {
    "slideshow": {
     "slide_type": "skip"
    }
   },
   "outputs": [
    {
     "data": {
      "text/plain": [
       "<matplotlib.legend.Legend at 0x114e2dc88>"
      ]
     },
     "execution_count": 6,
     "metadata": {},
     "output_type": "execute_result"
    },
    {
     "data": {
      "image/png": "[encoded data removed]",
      "text/plain": [
       "<Figure size 432x288 with 1 Axes>"
      ]
     },
     "metadata": {
      "needs_background": "light"
     },
     "output_type": "display_data"
    }
   ],
   "source": [
    "import numpy as np\n",
    "import scipy.linalg as LA\n",
    "import matplotlib.pyplot as plt\n",
    "from advdiff.model import Diffusion, AdvDiff\n",
    "#from advdiff.heuristic import AdvDiff\n",
    "\n",
    "params = {'L':4.*np.pi,'nx':100,'nt':100}\n",
    "coeffs = {'κ':0.3, 'σ':0.75, 'a':3.}\n",
    "\n",
    "def initcond(test, M = 1,P = 1,x_0 = np.pi,t=0.1):\n",
    "    return (M / (P *(4*np.pi*test.κ*t)**0.5)) * np.exp(-(((test.x-(x_0 + test.a*t))**2)/(4*test.κ*t)))\n",
    "\n",
    "nxs   = np.arange(100,2500,400)\n",
    "err_G = np.zeros((4,nxs.shape[0]))\n",
    "\n",
    "for i, nx in enumerate(nxs):\n",
    "    params['nx'] = nx\n",
    "    test = AdvDiff(params,coeffs)\n",
    "    test.U[0,:] = initcond(test)\n",
    "    FTCS_G    = test.Goundov('FTCS','w')\n",
    "    UpWind_G  = test.Goundov('UpWind','w')\n",
    "    LaxWendroff_G = test.Goundov('LaxWendroff','w')\n",
    "    BeamWarming_G  = test.Goundov('BeamWarming','w')\n",
    "\n",
    "    analytical = np.zeros((params['nt'],params['nx']))\n",
    "    for t in range(0,params['nt']):\n",
    "        analytical[t,:] = initcond(test,t=(t*test.dt+0.1))\n",
    "        \n",
    "    err_G[0,i] = LA.norm(analytical - FTCS_G, np.inf)\n",
    "    err_G[1,i] = LA.norm(analytical - UpWind_G, np.inf)\n",
    "    err_G[2,i] = LA.norm(analytical - LaxWendroff_G, np.inf)\n",
    "    err_G[3,i] = LA.norm(analytical - BeamWarming_G, np.inf)\n",
    "\n",
    "# for t in range(params['nt']):\n",
    "#     plt.plot(test.x, second[t,:])\n",
    "# plt.show()\n",
    "\n",
    "fig, ax = plt.subplots(1,1,figsize=(6,4))\n",
    "ax.grid()\n",
    "\n",
    "ax.set_ylabel(r'$|U_{num} - U_{anl}|_\\infty$')\n",
    "ax.set_xlabel('$\\Delta x$')\n",
    "ax.set_title(r'Goundov Splitting (nt=100)')\n",
    "\n",
    "ax.loglog(1/nxs,err_G[0],'x-',label='CN & FTCS',markersize=4,basey=10)\n",
    "ax.loglog(1/nxs,err_G[1],'o-',label='CN & UpWind',markersize=4,basey=10)\n",
    "ax.loglog(1/nxs,err_G[2],'-' ,label='CN & LaxWendroff',markersize=4,basey=10)\n",
    "ax.loglog(1/nxs,err_G[3],':' ,label='CN & BeamWarming',markersize=4,basey=10)\n",
    "plt.legend()"
   ]
  },
  {
   "cell_type": "code",
   "execution_count": 7,
   "metadata": {
    "slideshow": {
     "slide_type": "-"
    }
   },
   "outputs": [
    {
     "data": {
      "image/png": "[encoded data removed]",
      "text/plain": [
       "<Figure size 432x288 with 1 Axes>"
      ]
     },
     "metadata": {
      "needs_background": "light"
     },
     "output_type": "display_data"
    }
   ],
   "source": [
    "#!/usr/bin/env python3\n",
    "\n",
    "params = {'L':4.*np.pi,'nx':100,'nt':100}\n",
    "coeffs = {'κ':0.3, 'σ':0.75, 'a':3.}\n",
    "\n",
    "def initcond(test, M = 1,P = 1,x_0 = np.pi,t=0.1):\n",
    "    return (M / (P *(4*np.pi*test.κ*t)**0.5)) * np.exp(-(((test.x-(x_0 + test.a*t))**2)/(4*test.κ*t)))\n",
    "\n",
    "nxs   = np.arange(100,2500,400)\n",
    "err_S = np.zeros((4,nxs.shape[0]))\n",
    "\n",
    "for i, nx in enumerate(nxs):\n",
    "    params['nx'] = nx\n",
    "    test = AdvDiff(params,coeffs)\n",
    "    test.U[0,:] = initcond(test)\n",
    "    FTCS_S  = test.Strang('FTCS','w')\n",
    "    UpWind_S  = test.Strang('UpWind','w')\n",
    "    LaxWendroff_S = test.Strang('LaxWendroff','w')\n",
    "    BeamWarming_S = test.Strang('BeamWarming','w')\n",
    "\n",
    "    analytical = np.zeros((params['nt'],params['nx']))\n",
    "    for t in range(0,params['nt']):\n",
    "        analytical[t,:] = initcond(test,t=(t*test.dt+0.1))\n",
    "\n",
    "    err_S[0,i] = LA.norm(analytical - FTCS_S, np.inf)\n",
    "    err_S[1,i] = LA.norm(analytical - UpWind_S, np.inf)\n",
    "    err_S[2,i] = LA.norm(analytical - LaxWendroff_S, np.inf)\n",
    "    err_S[3,i] = LA.norm(analytical - BeamWarming_S, np.inf)\n",
    "\n",
    "# for t in range(params['nt']):\n",
    "#     plt.plot(test.x, LaxWendroff[t,:])\n",
    "# plt.show()\n",
    "\n",
    "fig, ax = plt.subplots(1,1,figsize=(6,4))\n",
    "# ax.set_yscale('log')\n",
    "# ax.set_xscale('log')\n",
    "ax.loglog(1/nxs,err_S[0],'x-',label='CN & FTCS',markersize=4,basey=10)\n",
    "ax.loglog(1/nxs,err_S[1],'o-',label='CN & UpWind',markersize=4,basey=10)\n",
    "ax.loglog(1/nxs,err_S[2],'-', label='CN & LaxWendroff',markersize=4,basey=10)\n",
    "ax.loglog(1/nxs,err_S[3],':',label='CN & BeamWarming',markersize=4,basey=10)\n",
    "\n",
    "ax.grid()\n",
    "#\n",
    "#ax.axhline(1e-16,nxs[0],nxs[-1])\n",
    "ax.set_ylabel(r'$|U_{num} - U_{anl}|_\\infty$')\n",
    "ax.set_xlabel('$\\Delta x$')\n",
    "ax.set_title(r'Strang (nt=100)')\n",
    "plt.legend()\n",
    "\n",
    "# fig, ax = plt.subplots(1,1,figsize=(6,4))\n",
    "# ax.plot(test.x,UpWind_S[-1,:],'x')\n",
    "# ax.plot(test.x,LaxWendroff_S[-1,:],'x')\n",
    "# ax.plot(test.x,BeamWarming_S[-1,:],'x')\n",
    "# ax.plot(test.x,analytical_S[-1,:])\n",
    "plt.tight_layout()\n",
    "plt.show()\n"
   ]
  },
  {
   "cell_type": "code",
   "execution_count": 14,
   "metadata": {},
   "outputs": [
    {
     "data": {
      "text/plain": [
       "array([0.39615687, 0.0239546 , 0.00599329, 0.00255684, 0.00139361,\n",
       "       0.00087146])"
      ]
     },
     "execution_count": 14,
     "metadata": {},
     "output_type": "execute_result"
    }
   ],
   "source": [
    "err_S[0]"
   ]
  },
  {
   "cell_type": "code",
   "execution_count": 13,
   "metadata": {},
   "outputs": [
    {
     "data": {
      "text/plain": [
       "array([0.3961475 , 0.02395448, 0.00599328, 0.00255684, 0.00139361,\n",
       "       0.00087146])"
      ]
     },
     "execution_count": 13,
     "metadata": {},
     "output_type": "execute_result"
    }
   ],
   "source": [
    "err_G[0]"
   ]
  },
  {
   "cell_type": "code",
   "execution_count": null,
   "metadata": {},
   "outputs": [],
   "source": []
  }
 ],
 "metadata": {
  "celltoolbar": "Slideshow",
  "kernelspec": {
   "display_name": "Python 3",
   "language": "python",
   "name": "python3"
  },
  "language_info": {
   "codemirror_mode": {
    "name": "ipython",
    "version": 3
   },
   "file_extension": ".py",
   "mimetype": "text/x-python",
   "name": "python",
   "nbconvert_exporter": "python",
   "pygments_lexer": "ipython3",
   "version": "3.6.7"
  }
 },
 "nbformat": 4,
 "nbformat_minor": 2
}
